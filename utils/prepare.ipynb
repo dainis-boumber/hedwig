{
 "cells": [
  {
   "cell_type": "code",
   "execution_count": 1,
   "metadata": {},
   "outputs": [],
   "source": [
    "import pandas as pd\n",
    "import numpy as np\n",
    "from pathlib import Path\n",
    "from pandas.api.types import is_string_dtype\n",
    "from typing import List, Set, Dict, Tuple, Optional, Union\n",
    "from nltk.tokenize import word_tokenize \n",
    "import ftfy\n",
    "import textacy"
   ]
  },
  {
   "cell_type": "code",
   "execution_count": 2,
   "metadata": {},
   "outputs": [],
   "source": [
    "def preprocess(text):\n",
    "    # remove URL's from train and test\n",
    "    text=ftfy.fix_text(text)\n",
    "    text=textacy.preprocess.preprocess_text(text,\n",
    "                                            no_urls=True,\n",
    "                                            no_emails=True,\n",
    "                                            no_phone_numbers=True,\n",
    "                                            no_accents=True,\n",
    "                                            )\n",
    "    return ' '.join(text.split()).strip()"
   ]
  },
  {
   "cell_type": "code",
   "execution_count": 32,
   "metadata": {},
   "outputs": [],
   "source": [
    " def prepare_csv(csv_file:str, path='MBTI', sep='\\t', text_col:int=1, label_cols:int=[0], header=None):\n",
    "    \"\"\"TODO: optimize for speed and memory use\n",
    "        Process a csv (usually a Pandas-generated one) in such a way that torchtext can handle it\n",
    "    \"\"\"\n",
    "    df = pd.read_csv(Path(path)/csv_file, sep=sep, header=header)\n",
    "    df[1] = df[text_col].str.replace(\"\\n\", \" \")\n",
    "    df[1] =df[text_col].apply(preprocess)\n",
    "    df[0] = df.apply(lambda row: ''.join([str(lbl) for lbl in row[label_cols]]), axis=1)\n",
    "    df = df[[0, 1]]\n",
    "    df.to_csv(Path(path)/'tmp.tsv', sep='\\t', header=False, index=False, index_label=None)"
   ]
  },
  {
   "cell_type": "code",
   "execution_count": 34,
   "metadata": {},
   "outputs": [],
   "source": [
    "prepared=prepare_csv('dev.tsv')"
   ]
  },
  {
   "cell_type": "code",
   "execution_count": null,
   "metadata": {},
   "outputs": [],
   "source": [
    "df = pd.read_csv(path / csv_file, sep=sep, header=header)"
   ]
  },
  {
   "cell_type": "code",
   "execution_count": 35,
   "metadata": {},
   "outputs": [
    {
     "data": {
      "text/html": [
       "<div>\n",
       "<style scoped>\n",
       "    .dataframe tbody tr th:only-of-type {\n",
       "        vertical-align: middle;\n",
       "    }\n",
       "\n",
       "    .dataframe tbody tr th {\n",
       "        vertical-align: top;\n",
       "    }\n",
       "\n",
       "    .dataframe thead th {\n",
       "        text-align: right;\n",
       "    }\n",
       "</style>\n",
       "<table border=\"1\" class=\"dataframe\">\n",
       "  <thead>\n",
       "    <tr style=\"text-align: right;\">\n",
       "      <th></th>\n",
       "      <th>0</th>\n",
       "      <th>1</th>\n",
       "    </tr>\n",
       "  </thead>\n",
       "  <tbody>\n",
       "    <tr>\n",
       "      <th>0</th>\n",
       "      <td>10</td>\n",
       "      <td>definitely get used to it . Now , when I go ho...</td>\n",
       "    </tr>\n",
       "    <tr>\n",
       "      <th>1</th>\n",
       "      <td>0</td>\n",
       "      <td>face says it all !! ! I left my pink lenses in...</td>\n",
       "    </tr>\n",
       "    <tr>\n",
       "      <th>2</th>\n",
       "      <td>11</td>\n",
       "      <td>gyms and put more boring , linear , handholdin...</td>\n",
       "    </tr>\n",
       "    <tr>\n",
       "      <th>3</th>\n",
       "      <td>10</td>\n",
       "      <td>prove anything to anyone . It 's just me in my...</td>\n",
       "    </tr>\n",
       "    <tr>\n",
       "      <th>4</th>\n",
       "      <td>1</td>\n",
       "      <td>be helped by a friend so I could give her some...</td>\n",
       "    </tr>\n",
       "  </tbody>\n",
       "</table>\n",
       "</div>"
      ],
      "text/plain": [
       "    0                                                  1\n",
       "0  10  definitely get used to it . Now , when I go ho...\n",
       "1   0  face says it all !! ! I left my pink lenses in...\n",
       "2  11  gyms and put more boring , linear , handholdin...\n",
       "3  10  prove anything to anyone . It 's just me in my...\n",
       "4   1  be helped by a friend so I could give her some..."
      ]
     },
     "execution_count": 35,
     "metadata": {},
     "output_type": "execute_result"
    }
   ],
   "source": [
    "df=pd.read_csv('MBTI/dev.tsv', sep='\\t', header=None)\n",
    "df.head()"
   ]
  },
  {
   "cell_type": "code",
   "execution_count": 37,
   "metadata": {},
   "outputs": [],
   "source": [
    "df.head(1000).to_csv(Path('MBTI')/'tmp.tsv', sep='\\t', header=False, index=False, index_label=None, )"
   ]
  },
  {
   "cell_type": "code",
   "execution_count": 16,
   "metadata": {},
   "outputs": [],
   "source": [
    "tmp = df.head(100)\n",
    "tmp.iloc[:,1]=tmp.iloc[:,1].apply(lambda x: x.replace('\\n', ' '))"
   ]
  },
  {
   "cell_type": "code",
   "execution_count": 17,
   "metadata": {},
   "outputs": [],
   "source": [
    "tmp.to_csv('tmp.tsv', index=False, header=None,  sep='\\t')"
   ]
  },
  {
   "cell_type": "code",
   "execution_count": null,
   "metadata": {},
   "outputs": [],
   "source": []
  }
 ],
 "metadata": {
  "kernelspec": {
   "display_name": "anaconda",
   "language": "python",
   "name": "python3"
  },
  "language_info": {
   "codemirror_mode": {
    "name": "ipython",
    "version": 3
   },
   "file_extension": ".py",
   "mimetype": "text/x-python",
   "name": "python",
   "nbconvert_exporter": "python",
   "pygments_lexer": "ipython3",
   "version": "3.7.2"
  }
 },
 "nbformat": 4,
 "nbformat_minor": 2
}
