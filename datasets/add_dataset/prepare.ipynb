{
 "cells": [
  {
   "cell_type": "code",
   "execution_count": 5,
   "metadata": {},
   "outputs": [],
   "source": [
    "import pandas as pd\n",
    "import numpy as np\n",
    "from pathlib import Path\n",
    "from pandas.api.types import is_string_dtype\n",
    "from typing import List, Set, Dict, Tuple, Optional, Union\n",
    "from nltk.tokenize import word_tokenize \n",
    "import ftfy\n",
    "import textacy\n",
    "from textacy import preprocess\n",
    "import torchtext\n",
    "from torchtext.data import Field\n",
    "from utils import io\n",
    "from torchtext.data import Field, Dataset, Example\n",
    "import csv\n"
   ]
  },
  {
   "cell_type": "code",
   "execution_count": 6,
   "metadata": {},
   "outputs": [],
   "source": [
    "              \n",
    "def prepare_csv(csv_file:str, max_n_labels, path='MBTI', sep='\\t', text_col:int=1, label_cols:int=[0],header=None):\n",
    "    df = pd.read_csv(Path(path)/csv_file, sep=sep, header=header)\n",
    "    df[1] = df[text_col].str.replace(\"\\n\", \" \")\n",
    "    df[1]=df[1].apply(ftfy.fix_text)\n",
    "    df[1]=df[1].apply(lambda text: textacy.preprocess_text(text,lowercase=False, no_currency_symbols=True,no_urls=True,no_emails=True,no_phone_numbers=True,no_accents=True,no_contractions=False))\n",
    "    df[1] = df[1].apply(lambda text: text.replace('\\\"', ''))\n",
    "    df[1] = df[1].apply(lambda text: text.replace('\"', ''))\n",
    "    df[1] = df[1].apply(lambda text: ' '.join(text.split()).strip())\n",
    "    df[1]=df[1].apply(ftfy.fix_text)\n",
    "    df[0] = df.apply(lambda row: ''.join([str(lbl) for lbl in row[label_cols]]), axis=1)\n",
    "    df = df[[0, 1]]\n",
    "    df.to_csv(Path(path)/'tmp.tsv', sep='\\t', header=False, index=False, index_label=None)\n",
    "    df[0]=df[0].astype('str')\n",
    "    df[0]=df[0].apply(lambda x: x if len(x) == max_n_labels else ''.join(['0' for i in range(4-len(x))])+str(x))\n",
    "\n",
    "\n",
    "def to_tsv(outfpath, labels:list, texts:list):\n",
    "    with open(outfpath, 'w', newline='') as tsvfile:\n",
    "        writer = csv.writer(tsvfile, delimiter='\\t')\n",
    "        for label, text in zip(labels, texts):\n",
    "            writer.writerow([label, text])"
   ]
  },
  {
   "cell_type": "code",
   "execution_count": 24,
   "metadata": {},
   "outputs": [],
   "source": [
    "df = pd.read_csv('new.tsv', header=None, sep='\\t')"
   ]
  }
 ],
 "metadata": {
  "kernelspec": {
   "display_name": "anaconda",
   "language": "python",
   "name": "python3"
  },
  "language_info": {
   "codemirror_mode": {
    "name": "ipython",
    "version": 3
   },
   "file_extension": ".py",
   "mimetype": "text/x-python",
   "name": "python",
   "nbconvert_exporter": "python",
   "pygments_lexer": "ipython3",
   "version": "3.7.2"
  }
 },
 "nbformat": 4,
 "nbformat_minor": 2
}
